{
 "cells": [
  {
   "cell_type": "markdown",
   "metadata": {},
   "source": [
    "# Project\n",
    "*COMP 5360 / MATH 4100, University of Utah, http://datasciencecourse.net/*\n",
    "\n"
   ]
  },
  {
   "cell_type": "markdown",
   "metadata": {},
   "source": [
    "\n",
    "Authors: \n",
    "Charlie Harden, u0630394\n",
    "Kennedy Simmons\n",
    "Jorden Hendricksen\n"
   ]
  },
  {
   "cell_type": "markdown",
   "metadata": {},
   "source": [
    "# 02/28 Proposal \n",
    "- Data Form\n",
    "\n",
    "- Proposal Document\n",
    "\n",
    "- basic  info\n",
    "\n",
    "- Background/motivation\n",
    "\n",
    "- Objectives\n",
    "\n",
    "- Data\n",
    "\n",
    "- Ethical Considerations\n",
    "\n",
    "- Data Processing\n",
    "\n",
    "- Exploratory Analysis\n",
    "\n",
    "- Analysis Methodology\n",
    "\n",
    "- Schedule\n"
   ]
  },
  {
   "cell_type": "code",
   "execution_count": null,
   "metadata": {},
   "outputs": [],
   "source": []
  }
 ],
 "metadata": {
  "anaconda-cloud": {},
  "kernelspec": {
   "display_name": "Python 3",
   "language": "python",
   "name": "python3"
  },
  "language_info": {
   "codemirror_mode": {
    "name": "ipython",
    "version": 3
   },
   "file_extension": ".py",
   "mimetype": "text/x-python",
   "name": "python",
   "nbconvert_exporter": "python",
   "pygments_lexer": "ipython3",
   "version": "3.7.4"
  }
 },
 "nbformat": 4,
 "nbformat_minor": 1
}
